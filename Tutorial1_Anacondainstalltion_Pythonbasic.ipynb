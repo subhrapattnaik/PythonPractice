{
 "cells": [
  {
   "cell_type": "code",
   "execution_count": 8,
   "id": "7f338a5b-ed71-4691-8dd7-1affb9be7ee1",
   "metadata": {},
   "outputs": [
    {
     "data": {
      "text/plain": [
       "str"
      ]
     },
     "execution_count": 8,
     "metadata": {},
     "output_type": "execute_result"
    }
   ],
   "source": [
    "type(\"SUBHRA\")"
   ]
  },
  {
   "cell_type": "code",
   "execution_count": 6,
   "id": "ee833323-f5d5-401f-a9ca-f08cdb822bcc",
   "metadata": {},
   "outputs": [
    {
     "data": {
      "text/plain": [
       "bool"
      ]
     },
     "execution_count": 6,
     "metadata": {},
     "output_type": "execute_result"
    }
   ],
   "source": [
    "type(True)"
   ]
  },
  {
   "cell_type": "code",
   "execution_count": 4,
   "id": "f7fbc80e-4e95-4a6c-b0c3-d4d09a2a6d4d",
   "metadata": {},
   "outputs": [
    {
     "data": {
      "text/plain": [
       "float"
      ]
     },
     "execution_count": 4,
     "metadata": {},
     "output_type": "execute_result"
    }
   ],
   "source": [
    "type(10.3)"
   ]
  },
  {
   "cell_type": "code",
   "execution_count": 3,
   "id": "8776e5fe-99fb-4f53-a808-aa5a0e638121",
   "metadata": {},
   "outputs": [
    {
     "data": {
      "text/plain": [
       "int"
      ]
     },
     "execution_count": 3,
     "metadata": {},
     "output_type": "execute_result"
    }
   ],
   "source": [
    "type(1)"
   ]
  },
  {
   "cell_type": "code",
   "execution_count": 1,
   "id": "25e37246-7e12-4f33-9cbe-bd8e3f9c08f0",
   "metadata": {},
   "outputs": [
    {
     "data": {
      "text/plain": [
       "100"
      ]
     },
     "execution_count": 1,
     "metadata": {},
     "output_type": "execute_result"
    }
   ],
   "source": [
    "10**2\n"
   ]
  },
  {
   "cell_type": "code",
   "execution_count": 2,
   "id": "95f2caed-9a8a-42a3-8350-923fb1e63411",
   "metadata": {},
   "outputs": [
    {
     "data": {
      "text/plain": [
       "'strstrstrstrstrstrstrstrstrstr'"
      ]
     },
     "execution_count": 2,
     "metadata": {},
     "output_type": "execute_result"
    }
   ],
   "source": [
    "10 * 'str'"
   ]
  },
  {
   "cell_type": "markdown",
   "id": "fcf6eef0-adb0-41c1-b458-a0868d190d96",
   "metadata": {},
   "source": [
    "a=5\n",
    "a"
   ]
  },
  {
   "cell_type": "code",
   "execution_count": 2,
   "id": "cd74256c-eff6-4881-a653-403adb15dca6",
   "metadata": {},
   "outputs": [
    {
     "data": {
      "text/plain": [
       "2"
      ]
     },
     "execution_count": 2,
     "metadata": {},
     "output_type": "execute_result"
    }
   ],
   "source": [
    "1+1\n"
   ]
  },
  {
   "cell_type": "code",
   "execution_count": 3,
   "id": "17abe33f-d8d9-421c-9e11-24870d6869c3",
   "metadata": {},
   "outputs": [
    {
     "data": {
      "text/plain": [
       "20"
      ]
     },
     "execution_count": 3,
     "metadata": {},
     "output_type": "execute_result"
    }
   ],
   "source": [
    "4*5"
   ]
  },
  {
   "cell_type": "markdown",
   "id": "428f8525-296c-4ab5-b155-46823eeb4b9f",
   "metadata": {},
   "source": [
    "\n",
    "# PYTHON TUTORIAL\n",
    "-DA"
   ]
  },
  {
   "cell_type": "code",
   "execution_count": 9,
   "id": "80c42389-cd23-44f4-8dad-8773dbaf0002",
   "metadata": {},
   "outputs": [
    {
     "data": {
      "text/plain": [
       "'python'"
      ]
     },
     "execution_count": 9,
     "metadata": {},
     "output_type": "execute_result"
    }
   ],
   "source": [
    "a=\"python\"\n",
    "a"
   ]
  },
  {
   "cell_type": "code",
   "execution_count": 11,
   "id": "188d8c2c-7ac6-44f0-b187-c89d1d7af133",
   "metadata": {},
   "outputs": [
    {
     "name": "stdout",
     "output_type": "stream",
     "text": [
      "400\n",
      "0.25\n",
      "50\n",
      "-30\n",
      "10\n"
     ]
    }
   ],
   "source": [
    "a=10\n",
    "b=40\n",
    "print(a*b)\n",
    "print(a/b)\n",
    "print(a+b)\n",
    "print(a-b)\n",
    "print(a%b)"
   ]
  },
  {
   "cell_type": "code",
   "execution_count": 13,
   "id": "87e4088b-9730-49ab-899b-446cd62b47f4",
   "metadata": {},
   "outputs": [
    {
     "name": "stdout",
     "output_type": "stream",
     "text": [
      "My first name is subhra and last name is pattnaik\n"
     ]
    }
   ],
   "source": [
    "firstname= \"subhra\"\n",
    "lastname=\"pattnaik\"\n",
    "print(\"My first name is {} and last name is {}\".format(firstname,lastname))"
   ]
  },
  {
   "cell_type": "code",
   "execution_count": 14,
   "id": "4f2f9ac5-5715-4b03-924c-7f2efd75530d",
   "metadata": {},
   "outputs": [
    {
     "name": "stdout",
     "output_type": "stream",
     "text": [
      "My first name is subhra and last name is pattnaik\n"
     ]
    }
   ],
   "source": [
    "print(\"My first name is {first} and last name is {last}\".format(last=lastname,first=firstname))"
   ]
  },
  {
   "cell_type": "code",
   "execution_count": 15,
   "id": "3845eae6-9c7b-4adf-b958-b7d4265b9743",
   "metadata": {},
   "outputs": [
    {
     "data": {
      "text/plain": [
       "6"
      ]
     },
     "execution_count": 15,
     "metadata": {},
     "output_type": "execute_result"
    }
   ],
   "source": [
    "len(\"subhra\")"
   ]
  },
  {
   "cell_type": "code",
   "execution_count": null,
   "id": "5b37f8ed-bf36-40dd-b4f1-4605ee70f9c5",
   "metadata": {},
   "outputs": [],
   "source": []
  },
  {
   "cell_type": "code",
   "execution_count": 17,
   "id": "6b39ea56-f27a-4878-841c-a41272b10bc0",
   "metadata": {},
   "outputs": [
    {
     "data": {
      "text/plain": [
       "list"
      ]
     },
     "execution_count": 17,
     "metadata": {},
     "output_type": "execute_result"
    }
   ],
   "source": [
    "type(['1',2,3,\"xyz\",True])\n"
   ]
  },
  {
   "cell_type": "code",
   "execution_count": null,
   "id": "1cce3585-3bb6-4895-b36d-d9b3941d4257",
   "metadata": {},
   "outputs": [],
   "source": []
  }
 ],
 "metadata": {
  "kernelspec": {
   "display_name": "Python 3 (ipykernel)",
   "language": "python",
   "name": "python3"
  },
  "language_info": {
   "codemirror_mode": {
    "name": "ipython",
    "version": 3
   },
   "file_extension": ".py",
   "mimetype": "text/x-python",
   "name": "python",
   "nbconvert_exporter": "python",
   "pygments_lexer": "ipython3",
   "version": "3.12.8"
  }
 },
 "nbformat": 4,
 "nbformat_minor": 5
}
