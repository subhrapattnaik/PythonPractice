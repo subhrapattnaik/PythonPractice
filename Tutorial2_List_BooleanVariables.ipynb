{
 "cells": [
  {
   "cell_type": "code",
   "execution_count": 51,
   "id": "e7452edd-92a6-46ce-a716-3b893ed7051d",
   "metadata": {},
   "outputs": [
    {
     "data": {
      "text/plain": [
       "False"
      ]
     },
     "execution_count": 51,
     "metadata": {},
     "output_type": "execute_result"
    },
    {
     "name": "stdout",
     "output_type": "stream",
     "text": [
      "The history saving thread hit an unexpected error (OperationalError('attempt to write a readonly database')).History will not be written to the database.\n"
     ]
    }
   ],
   "source": [
    "bool()"
   ]
  },
  {
   "cell_type": "code",
   "execution_count": 52,
   "id": "c0b75544-e88d-4160-8d79-750352a09b0c",
   "metadata": {},
   "outputs": [
    {
     "data": {
      "text/plain": [
       "bool"
      ]
     },
     "execution_count": 52,
     "metadata": {},
     "output_type": "execute_result"
    }
   ],
   "source": [
    "type(True)"
   ]
  },
  {
   "cell_type": "code",
   "execution_count": 53,
   "id": "c13789b1-09e5-4278-9026-df515c22c64d",
   "metadata": {},
   "outputs": [],
   "source": [
    "my_str = \"Abc\""
   ]
  },
  {
   "cell_type": "code",
   "execution_count": 54,
   "id": "79f93f4b-8a13-4b17-976c-d0c247cc01ab",
   "metadata": {},
   "outputs": [
    {
     "data": {
      "text/plain": [
       "True"
      ]
     },
     "execution_count": 54,
     "metadata": {},
     "output_type": "execute_result"
    }
   ],
   "source": [
    "my_str.istitle()"
   ]
  },
  {
   "cell_type": "code",
   "execution_count": 55,
   "id": "c6d9e502-08a2-4bc2-b999-4fa030d2484c",
   "metadata": {},
   "outputs": [
    {
     "name": "stdout",
     "output_type": "stream",
     "text": [
      "True\n",
      "True\n",
      "False\n",
      "True\n",
      "False\n",
      "False\n",
      "False\n",
      "False\n"
     ]
    }
   ],
   "source": [
    "print(my_str.isalnum()) # check if all char are alphanumeric \n",
    "print(my_str.isalpha()) #check if all are alphabates\n",
    "print(my_str.isdigit()) #check if all are digit\n",
    "print(my_str.istitle()) #check if string contains titled word - First letter capital rest small \n",
    "print(my_str.isupper()) #check if string has all upper case\n",
    "print(my_str.islower()) #check if string has all lower case\n",
    "print(my_str.endswith('k')) # check if string endswith 'k'\n",
    "print(my_str.startswith('S')) #check if string starts with 'S'\n"
   ]
  },
  {
   "cell_type": "code",
   "execution_count": 56,
   "id": "2ee4764d-e574-48f2-a931-6ae77b865987",
   "metadata": {},
   "outputs": [
    {
     "data": {
      "text/plain": [
       "True"
      ]
     },
     "execution_count": 56,
     "metadata": {},
     "output_type": "execute_result"
    }
   ],
   "source": [
    "True and True"
   ]
  },
  {
   "cell_type": "code",
   "execution_count": 57,
   "id": "41fd690f-b2bc-4676-b0e8-e6864072a021",
   "metadata": {},
   "outputs": [
    {
     "data": {
      "text/plain": [
       "False"
      ]
     },
     "execution_count": 57,
     "metadata": {},
     "output_type": "execute_result"
    }
   ],
   "source": [
    "True and False"
   ]
  },
  {
   "cell_type": "code",
   "execution_count": 58,
   "id": "38858462-7705-468d-b3bd-b79ca14df75b",
   "metadata": {},
   "outputs": [
    {
     "data": {
      "text/plain": [
       "False"
      ]
     },
     "execution_count": 58,
     "metadata": {},
     "output_type": "execute_result"
    }
   ],
   "source": [
    "False and True"
   ]
  },
  {
   "cell_type": "code",
   "execution_count": 59,
   "id": "5252a6e5-0b02-4c13-8646-bdd4a23168bf",
   "metadata": {},
   "outputs": [
    {
     "data": {
      "text/plain": [
       "True"
      ]
     },
     "execution_count": 59,
     "metadata": {},
     "output_type": "execute_result"
    }
   ],
   "source": [
    "False or True"
   ]
  },
  {
   "cell_type": "code",
   "execution_count": null,
   "id": "e7c8225c-1de7-4d9e-ab19-7cf1b33c5e3c",
   "metadata": {},
   "outputs": [],
   "source": []
  },
  {
   "cell_type": "code",
   "execution_count": 60,
   "id": "b74a5068-b659-4ae3-94f4-177fe1f5be62",
   "metadata": {},
   "outputs": [
    {
     "data": {
      "text/plain": [
       "False"
      ]
     },
     "execution_count": 60,
     "metadata": {},
     "output_type": "execute_result"
    }
   ],
   "source": [
    "False and False"
   ]
  },
  {
   "cell_type": "markdown",
   "id": "eed4e001-85a9-40af-851e-0b60c99de434",
   "metadata": {},
   "source": [
    "# Lists\n",
    "\n",
    "Lists are mutable ,changeable,ordered sequence of elements.Each element or value is called item.values are inside a []"
   ]
  },
  {
   "cell_type": "code",
   "execution_count": 46,
   "id": "da2a4788-82c9-4bee-9ce6-9f4ffbafa280",
   "metadata": {},
   "outputs": [
    {
     "data": {
      "text/plain": [
       "list"
      ]
     },
     "execution_count": 46,
     "metadata": {},
     "output_type": "execute_result"
    }
   ],
   "source": [
    "type([1,2])\n"
   ]
  },
  {
   "cell_type": "code",
   "execution_count": 47,
   "id": "02724cda-935f-4040-9aee-9ca19036295b",
   "metadata": {},
   "outputs": [
    {
     "data": {
      "text/plain": [
       "[1, 'hello', 2, True]"
      ]
     },
     "execution_count": 47,
     "metadata": {},
     "output_type": "execute_result"
    }
   ],
   "source": [
    "lst_example=[1,\"hello\",2,True]\n",
    "lst_example            "
   ]
  },
  {
   "cell_type": "code",
   "execution_count": null,
   "id": "bf437215-1fab-4990-a5d8-0a72cc6586ae",
   "metadata": {},
   "outputs": [],
   "source": []
  },
  {
   "cell_type": "code",
   "execution_count": 48,
   "id": "3823b560-ba40-40ac-9165-cc210131290a",
   "metadata": {},
   "outputs": [
    {
     "data": {
      "text/plain": [
       "4"
      ]
     },
     "execution_count": 48,
     "metadata": {},
     "output_type": "execute_result"
    }
   ],
   "source": [
    "len(lst_example)\n"
   ]
  },
  {
   "cell_type": "code",
   "execution_count": 49,
   "id": "b34e2cde-a869-4295-b8bd-b39c74badeae",
   "metadata": {},
   "outputs": [
    {
     "data": {
      "text/plain": [
       "['ram']"
      ]
     },
     "execution_count": 49,
     "metadata": {},
     "output_type": "execute_result"
    }
   ],
   "source": [
    "lst1=list()\n",
    "lst1.insert(0,\"ram\")\n",
    "lst1"
   ]
  },
  {
   "cell_type": "code",
   "execution_count": null,
   "id": "071b43b9-e95a-42d7-bedb-f2775fbbb888",
   "metadata": {},
   "outputs": [],
   "source": []
  },
  {
   "cell_type": "code",
   "execution_count": 50,
   "id": "bde96fa8-6635-4068-90a0-d3c192aed452",
   "metadata": {},
   "outputs": [
    {
     "data": {
      "text/plain": [
       "['ram', 'shyam']"
      ]
     },
     "execution_count": 50,
     "metadata": {},
     "output_type": "execute_result"
    }
   ],
   "source": [
    "lst1.append(\"shyam\")\n",
    "lst1"
   ]
  },
  {
   "cell_type": "code",
   "execution_count": null,
   "id": "ebc94e89-0983-47cf-b8f6-92143ffbc606",
   "metadata": {},
   "outputs": [],
   "source": []
  },
  {
   "cell_type": "code",
   "execution_count": 51,
   "id": "413b308a-b6e2-4af0-9cba-178473670590",
   "metadata": {},
   "outputs": [
    {
     "data": {
      "text/plain": [
       "['ram', 'shyam', ['bala', 'suresh']]"
      ]
     },
     "execution_count": 51,
     "metadata": {},
     "output_type": "execute_result"
    }
   ],
   "source": [
    "lst1.append([\"bala\",\"suresh\"])\n",
    "lst1"
   ]
  },
  {
   "cell_type": "code",
   "execution_count": null,
   "id": "a0c80ef4-6f31-4ee7-8ea0-fc3c6a34956d",
   "metadata": {},
   "outputs": [],
   "source": []
  },
  {
   "cell_type": "code",
   "execution_count": 52,
   "id": "00163c05-9f62-4679-9b34-251cd6b5c656",
   "metadata": {},
   "outputs": [
    {
     "data": {
      "text/plain": [
       "['ram', 'shyam', ['bala', 'suresh'], [3, 4]]"
      ]
     },
     "execution_count": 52,
     "metadata": {},
     "output_type": "execute_result"
    }
   ],
   "source": [
    "lst1.append([3,4])\n",
    "lst1"
   ]
  },
  {
   "cell_type": "code",
   "execution_count": null,
   "id": "6b968022-f927-4201-8af8-c9d3f346019a",
   "metadata": {},
   "outputs": [],
   "source": []
  },
  {
   "cell_type": "code",
   "execution_count": 53,
   "id": "f000fd27-7a3c-43e6-a143-3ceec3966537",
   "metadata": {},
   "outputs": [
    {
     "data": {
      "text/plain": [
       "['ram', 'shyam', ['bala', 'suresh'], [3, 4], 5, 6]"
      ]
     },
     "execution_count": 53,
     "metadata": {},
     "output_type": "execute_result"
    }
   ],
   "source": [
    "lst1.extend([5,6])\n",
    "lst1\n",
    "\n",
    "#notice the difference between append and extend"
   ]
  },
  {
   "cell_type": "code",
   "execution_count": null,
   "id": "c9872f38-cb4f-4ded-9c7d-0fca0fb5a4db",
   "metadata": {},
   "outputs": [],
   "source": []
  },
  {
   "cell_type": "code",
   "execution_count": null,
   "id": "a58cdc4f-ca38-4ae7-9046-c8769befc948",
   "metadata": {},
   "outputs": [],
   "source": []
  },
  {
   "cell_type": "code",
   "execution_count": 54,
   "id": "c6015b24-c6ab-4a38-9a76-5ce0134189f7",
   "metadata": {},
   "outputs": [
    {
     "data": {
      "text/plain": [
       "'shyam'"
      ]
     },
     "execution_count": 54,
     "metadata": {},
     "output_type": "execute_result"
    }
   ],
   "source": [
    "lst1[1]"
   ]
  },
  {
   "cell_type": "code",
   "execution_count": 55,
   "id": "ffe8540d-25ab-42bf-adb0-2c2fa040f765",
   "metadata": {},
   "outputs": [
    {
     "data": {
      "text/plain": [
       "['ram', 'shyam', ['bala', 'suresh'], [3, 4], 5, 6]"
      ]
     },
     "execution_count": 55,
     "metadata": {},
     "output_type": "execute_result"
    }
   ],
   "source": [
    "lst1[:]\n",
    "#all the elements"
   ]
  },
  {
   "cell_type": "code",
   "execution_count": 56,
   "id": "0c479095-d5bf-47e1-b33e-3678b5463ade",
   "metadata": {},
   "outputs": [
    {
     "data": {
      "text/plain": [
       "['shyam', ['bala', 'suresh'], [3, 4], 5, 6]"
      ]
     },
     "execution_count": 56,
     "metadata": {},
     "output_type": "execute_result"
    }
   ],
   "source": [
    "lst1[1:]\n",
    "\n",
    "#index 1 onwards"
   ]
  },
  {
   "cell_type": "code",
   "execution_count": 57,
   "id": "dcb6ad1c-1d96-4587-acd2-b5d43eec7ae8",
   "metadata": {},
   "outputs": [
    {
     "data": {
      "text/plain": [
       "[['bala', 'suresh'], [3, 4]]"
      ]
     },
     "execution_count": 57,
     "metadata": {},
     "output_type": "execute_result"
    }
   ],
   "source": [
    "lst1[2:4]\n",
    "# include index2 onwards till 3(1 less than the last number)"
   ]
  },
  {
   "cell_type": "code",
   "execution_count": 58,
   "id": "431e7d45-5cfa-4e35-8b44-a208684920aa",
   "metadata": {},
   "outputs": [
    {
     "data": {
      "text/plain": [
       "15"
      ]
     },
     "execution_count": 58,
     "metadata": {},
     "output_type": "execute_result"
    }
   ],
   "source": [
    "lst=[1,2,3,4,5]\n",
    "sum(lst)\n",
    "#sum is inbuilt function"
   ]
  },
  {
   "cell_type": "code",
   "execution_count": 59,
   "id": "3cbe88a3-addd-4114-8a19-d7cfc7313d72",
   "metadata": {},
   "outputs": [
    {
     "data": {
      "text/plain": [
       "5"
      ]
     },
     "execution_count": 59,
     "metadata": {},
     "output_type": "execute_result"
    }
   ],
   "source": [
    "lst.pop()\n",
    "#pops out the last element"
   ]
  },
  {
   "cell_type": "code",
   "execution_count": 60,
   "id": "0f432afb-0f89-4a1a-bdef-86b4c3edce7c",
   "metadata": {},
   "outputs": [
    {
     "data": {
      "text/plain": [
       "1"
      ]
     },
     "execution_count": 60,
     "metadata": {},
     "output_type": "execute_result"
    }
   ],
   "source": [
    "lst.pop(0)\n",
    "#pops the 0th index"
   ]
  },
  {
   "cell_type": "code",
   "execution_count": 61,
   "id": "b394b234-d646-471a-beb8-2fb921fc2cc5",
   "metadata": {},
   "outputs": [
    {
     "data": {
      "text/plain": [
       "[2, 3, 4]"
      ]
     },
     "execution_count": 61,
     "metadata": {},
     "output_type": "execute_result"
    }
   ],
   "source": [
    "lst"
   ]
  },
  {
   "cell_type": "code",
   "execution_count": 64,
   "id": "ac640594-4942-44b0-8f53-d20acc90bf0f",
   "metadata": {},
   "outputs": [
    {
     "data": {
      "text/plain": [
       "3"
      ]
     },
     "execution_count": 64,
     "metadata": {},
     "output_type": "execute_result"
    }
   ],
   "source": [
    "lst2=[1,1,1,2,2,3,4,3,3,3,3,5]\n",
    "lst2.count(1)\n",
    "# count inbuilt function\n",
    "#counts the frequency of that item"
   ]
  },
  {
   "cell_type": "code",
   "execution_count": 65,
   "id": "869cefc7-4413-4abb-8161-a4ca767ee7ea",
   "metadata": {},
   "outputs": [
    {
     "data": {
      "text/plain": [
       "12"
      ]
     },
     "execution_count": 65,
     "metadata": {},
     "output_type": "execute_result"
    }
   ],
   "source": [
    "len(lst2)"
   ]
  },
  {
   "cell_type": "code",
   "execution_count": 71,
   "id": "ee31067c-5bd4-4f1d-a9db-8a7418a15ebc",
   "metadata": {},
   "outputs": [
    {
     "data": {
      "text/plain": [
       "5"
      ]
     },
     "execution_count": 71,
     "metadata": {},
     "output_type": "execute_result"
    }
   ],
   "source": [
    "lst2.index(3,0,11)\n",
    "##after the function name (press shift+tab) to get the function definition\n",
    "\n",
    "#Signature: lst2.index(value, start=0, stop=9223372036854775807, /)\n",
    "#Docstring:\n",
    "#Return first index of value.\n",
    "\n",
    "#Raises ValueError if the value is not present.\n",
    "#Type:      builtin_function_or_method\n",
    "\n",
    "\n"
   ]
  },
  {
   "cell_type": "code",
   "execution_count": 73,
   "id": "5d3442df-0a67-4785-a8d9-9d2095804245",
   "metadata": {},
   "outputs": [
    {
     "data": {
      "text/plain": [
       "1"
      ]
     },
     "execution_count": 73,
     "metadata": {},
     "output_type": "execute_result"
    }
   ],
   "source": [
    "min(lst2)\n",
    "#alt+enter or options+enter to execute the code"
   ]
  },
  {
   "cell_type": "code",
   "execution_count": 74,
   "id": "66a43d77-ee52-4565-8f6b-00b1feccdd78",
   "metadata": {},
   "outputs": [
    {
     "data": {
      "text/plain": [
       "5"
      ]
     },
     "execution_count": 74,
     "metadata": {},
     "output_type": "execute_result"
    }
   ],
   "source": [
    "max(lst2)"
   ]
  },
  {
   "cell_type": "code",
   "execution_count": 75,
   "id": "4baf52cf-e371-4a64-85d9-1484bdaad9e9",
   "metadata": {},
   "outputs": [
    {
     "data": {
      "text/plain": [
       "[1, 1, 1, 2, 2, 3, 4, 3, 3, 3, 3, 5, 1, 1, 1, 2, 2, 3, 4, 3, 3, 3, 3, 5]"
      ]
     },
     "execution_count": 75,
     "metadata": {},
     "output_type": "execute_result"
    }
   ],
   "source": [
    "lst2*2\n",
    "#the whole list got appended again\n"
   ]
  },
  {
   "cell_type": "code",
   "execution_count": 77,
   "id": "226d5205-95c5-4864-9452-231214073c32",
   "metadata": {},
   "outputs": [],
   "source": [
    "#lst2*5\n",
    "#5 times got appended"
   ]
  },
  {
   "cell_type": "code",
   "execution_count": null,
   "id": "e57aea0c-51fc-408b-9407-0d2922b1a116",
   "metadata": {},
   "outputs": [],
   "source": []
  },
  {
   "cell_type": "code",
   "execution_count": null,
   "id": "bea274e2-8d88-4c68-a5d7-1209ab971ae0",
   "metadata": {},
   "outputs": [],
   "source": []
  },
  {
   "cell_type": "code",
   "execution_count": null,
   "id": "262bd859-c6a2-4243-afe9-973073690684",
   "metadata": {},
   "outputs": [],
   "source": []
  },
  {
   "cell_type": "code",
   "execution_count": null,
   "id": "2895052f-67a4-41b1-92b2-804447266d9f",
   "metadata": {},
   "outputs": [],
   "source": []
  },
  {
   "cell_type": "code",
   "execution_count": null,
   "id": "034f8c46-a751-4ed9-b307-208fe0a09944",
   "metadata": {},
   "outputs": [],
   "source": []
  },
  {
   "cell_type": "code",
   "execution_count": null,
   "id": "1087b6f4-cd60-45a9-a51f-663485ff8604",
   "metadata": {},
   "outputs": [],
   "source": []
  },
  {
   "cell_type": "code",
   "execution_count": null,
   "id": "1d4392f2-04f2-4fe3-96a0-07857296b896",
   "metadata": {},
   "outputs": [],
   "source": []
  },
  {
   "cell_type": "code",
   "execution_count": null,
   "id": "4dedcbda-18a6-4342-8002-d898dc131101",
   "metadata": {},
   "outputs": [],
   "source": []
  },
  {
   "cell_type": "code",
   "execution_count": null,
   "id": "8aec7bac-cee1-483f-816b-7b14663dd26e",
   "metadata": {},
   "outputs": [],
   "source": []
  },
  {
   "cell_type": "code",
   "execution_count": null,
   "id": "1117007b-6db1-45ce-85d2-953f44040f9d",
   "metadata": {},
   "outputs": [],
   "source": []
  },
  {
   "cell_type": "code",
   "execution_count": null,
   "id": "543737af-e90c-4ab6-8821-d4b565a202bc",
   "metadata": {},
   "outputs": [],
   "source": []
  },
  {
   "cell_type": "code",
   "execution_count": null,
   "id": "f6332930-0fbf-4008-a574-77a2b0076923",
   "metadata": {},
   "outputs": [],
   "source": []
  },
  {
   "cell_type": "code",
   "execution_count": null,
   "id": "6690f859-d647-4911-8bc0-732611bd388c",
   "metadata": {},
   "outputs": [],
   "source": []
  },
  {
   "cell_type": "code",
   "execution_count": null,
   "id": "23a451bf-a30d-4438-9d67-34939f6a2b50",
   "metadata": {},
   "outputs": [],
   "source": []
  },
  {
   "cell_type": "code",
   "execution_count": null,
   "id": "e031451e-b7e3-4fa1-93cc-7c623f27f479",
   "metadata": {},
   "outputs": [],
   "source": []
  },
  {
   "cell_type": "code",
   "execution_count": null,
   "id": "58be1093-dfc2-414c-bbf4-2b190f00e908",
   "metadata": {},
   "outputs": [],
   "source": []
  },
  {
   "cell_type": "code",
   "execution_count": null,
   "id": "a37c3912-f5ec-4094-b79a-a122fb033de6",
   "metadata": {},
   "outputs": [],
   "source": []
  },
  {
   "cell_type": "code",
   "execution_count": null,
   "id": "4cc6b945-0d73-496b-b381-03f993205b95",
   "metadata": {},
   "outputs": [],
   "source": []
  },
  {
   "cell_type": "code",
   "execution_count": null,
   "id": "4a014d0b-f6ed-423c-b99b-1227be821785",
   "metadata": {},
   "outputs": [],
   "source": []
  }
 ],
 "metadata": {
  "kernelspec": {
   "display_name": "Python 3 (ipykernel)",
   "language": "python",
   "name": "python3"
  },
  "language_info": {
   "codemirror_mode": {
    "name": "ipython",
    "version": 3
   },
   "file_extension": ".py",
   "mimetype": "text/x-python",
   "name": "python",
   "nbconvert_exporter": "python",
   "pygments_lexer": "ipython3",
   "version": "3.12.8"
  }
 },
 "nbformat": 4,
 "nbformat_minor": 5
}
