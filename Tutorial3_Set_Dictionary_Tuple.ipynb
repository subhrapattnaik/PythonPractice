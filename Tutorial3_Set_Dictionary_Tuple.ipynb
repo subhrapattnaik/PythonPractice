{
 "cells": [
  {
   "cell_type": "markdown",
   "id": "e85d94cc-5079-4d39-8d57-a165fdfff3cb",
   "metadata": {},
   "source": [
    "SET\n",
    "mutable,unordered collection of data,no duplicate.\n",
    "It is based on a data structure called hash table\n"
   ]
  },
  {
   "cell_type": "code",
   "execution_count": 28,
   "id": "b995fa05-f3da-4bbb-a779-d9322642b4f7",
   "metadata": {},
   "outputs": [
    {
     "name": "stdout",
     "output_type": "stream",
     "text": [
      "set()\n"
     ]
    },
    {
     "data": {
      "text/plain": [
       "set"
      ]
     },
     "execution_count": 28,
     "metadata": {},
     "output_type": "execute_result"
    }
   ],
   "source": [
    "set1=set()\n",
    "print(set1)\n",
    "type(set1)"
   ]
  },
  {
   "cell_type": "code",
   "execution_count": 29,
   "id": "40adf37c-245d-4d75-b08c-aa6684063781",
   "metadata": {},
   "outputs": [
    {
     "name": "stdout",
     "output_type": "stream",
     "text": [
      "{'spider man', 'avengers', 'iron man'}\n"
     ]
    },
    {
     "data": {
      "text/plain": [
       "set"
      ]
     },
     "execution_count": 29,
     "metadata": {},
     "output_type": "execute_result"
    }
   ],
   "source": [
    "set2={\"avengers\",\"iron man\",\"spider man\"}\n",
    "print(set2)\n",
    "type(set2)"
   ]
  },
  {
   "cell_type": "code",
   "execution_count": 30,
   "id": "9786af26-58f8-400b-a599-5f4279a153e1",
   "metadata": {},
   "outputs": [
    {
     "data": {
      "text/plain": [
       "{1, 2, 3, 4, 5}"
      ]
     },
     "execution_count": 30,
     "metadata": {},
     "output_type": "execute_result"
    }
   ],
   "source": [
    "set3={1,2,3,3,1,2,3,2,4,5,5}\n",
    "set3\n",
    "#elliminates duplicates"
   ]
  },
  {
   "cell_type": "code",
   "execution_count": 31,
   "id": "13c84a4d-497c-40f4-8e16-c0221a1fe912",
   "metadata": {},
   "outputs": [],
   "source": [
    "#there is no indexing in set\n"
   ]
  },
  {
   "cell_type": "code",
   "execution_count": 32,
   "id": "654e919d-d01a-40f6-a6cd-91c9fa714cc0",
   "metadata": {},
   "outputs": [
    {
     "data": {
      "text/plain": [
       "{1, 2, 3, 4, 5, 'spider man'}"
      ]
     },
     "execution_count": 32,
     "metadata": {},
     "output_type": "execute_result"
    }
   ],
   "source": [
    "set3.add(\"spider man\")\n",
    "set3"
   ]
  },
  {
   "cell_type": "code",
   "execution_count": 34,
   "id": "2145c7f2-888a-4a35-bedb-30370cd7dd59",
   "metadata": {},
   "outputs": [
    {
     "data": {
      "text/plain": [
       "{'spider man'}"
      ]
     },
     "execution_count": 34,
     "metadata": {},
     "output_type": "execute_result"
    }
   ],
   "source": [
    "set2.intersection(set3)"
   ]
  },
  {
   "cell_type": "code",
   "execution_count": 35,
   "id": "a6a0e630-48ab-4212-8cc0-7740a9349840",
   "metadata": {},
   "outputs": [
    {
     "data": {
      "text/plain": [
       "{'spider man'}"
      ]
     },
     "execution_count": 35,
     "metadata": {},
     "output_type": "execute_result"
    }
   ],
   "source": [
    "set2.intersection_update(set3)\n",
    "set2\n",
    "\n",
    "#intersection_update updates the common value in the set2"
   ]
  },
  {
   "cell_type": "code",
   "execution_count": 12,
   "id": "a3026061-609b-4246-979d-3c364ed3f715",
   "metadata": {},
   "outputs": [
    {
     "data": {
      "text/plain": [
       "{'hulk'}"
      ]
     },
     "execution_count": 12,
     "metadata": {},
     "output_type": "execute_result"
    }
   ],
   "source": [
    "set4={\"avengers\",\"iron man\",\"spider man\"}\n",
    "set5={\"avengers\",\"iron man\",\"spider man\",\"hulk\"}\n",
    "set5.difference(set4)\n",
    "\n",
    "# after set5 press dot +tab (to find all the list of functions under set)\n",
    "# in maths how we find difference in sets ..just like that"
   ]
  },
  {
   "cell_type": "code",
   "execution_count": 18,
   "id": "0137049e-3acf-4fd8-b2ae-9b853ff9ddf4",
   "metadata": {},
   "outputs": [
    {
     "data": {
      "text/plain": [
       "{'hulk'}"
      ]
     },
     "execution_count": 18,
     "metadata": {},
     "output_type": "execute_result"
    }
   ],
   "source": [
    "set5"
   ]
  },
  {
   "cell_type": "code",
   "execution_count": 16,
   "id": "8a122024-3763-496c-892e-a814135d0438",
   "metadata": {},
   "outputs": [
    {
     "data": {
      "text/plain": [
       "{'hulk'}"
      ]
     },
     "execution_count": 16,
     "metadata": {},
     "output_type": "execute_result"
    }
   ],
   "source": [
    "set5.difference_update(set4)\n",
    "set5"
   ]
  },
  {
   "cell_type": "code",
   "execution_count": null,
   "id": "3271f270-f7d9-4e73-9fd8-7830cacfa555",
   "metadata": {},
   "outputs": [],
   "source": []
  },
  {
   "cell_type": "code",
   "execution_count": null,
   "id": "146372e2-9d98-4a57-95c3-3869a3eb1343",
   "metadata": {},
   "outputs": [],
   "source": []
  },
  {
   "cell_type": "markdown",
   "id": "9d21512f-2893-41ce-adef-068868a6ecc8",
   "metadata": {},
   "source": [
    "Dictionary\n",
    "\n",
    "unordered,indexed,changable\n",
    "key value pairs\n",
    "written in {}\n"
   ]
  },
  {
   "cell_type": "code",
   "execution_count": 36,
   "id": "3019fe6f-e443-44da-948f-c99df94de16c",
   "metadata": {},
   "outputs": [
    {
     "data": {
      "text/plain": [
       "dict"
      ]
     },
     "execution_count": 36,
     "metadata": {},
     "output_type": "execute_result"
    }
   ],
   "source": [
    "dic={}\n",
    "type(dic)"
   ]
  },
  {
   "cell_type": "code",
   "execution_count": 37,
   "id": "6be4ca93-7b4a-4195-b93b-3386856bbcc8",
   "metadata": {},
   "outputs": [
    {
     "data": {
      "text/plain": [
       "set"
      ]
     },
     "execution_count": 37,
     "metadata": {},
     "output_type": "execute_result"
    }
   ],
   "source": [
    "set_example={1,2,3,4,5}\n",
    "type(set_example)"
   ]
  },
  {
   "cell_type": "code",
   "execution_count": 38,
   "id": "3e71561f-8fea-4eff-b7ea-7406e15ed076",
   "metadata": {},
   "outputs": [
    {
     "data": {
      "text/plain": [
       "{'car1': 'Audi', 'car2': 'BMW', 'car3': 'Mercidies'}"
      ]
     },
     "execution_count": 38,
     "metadata": {},
     "output_type": "execute_result"
    }
   ],
   "source": [
    "my_dic={\"car1\":\"Audi\",\"car2\":\"BMW\",\"car3\":\"Mercidies\"}\n",
    "my_dic"
   ]
  },
  {
   "cell_type": "code",
   "execution_count": 39,
   "id": "f1aeb5fb-291c-46ae-a43f-564cf78f8973",
   "metadata": {},
   "outputs": [
    {
     "data": {
      "text/plain": [
       "dict"
      ]
     },
     "execution_count": 39,
     "metadata": {},
     "output_type": "execute_result"
    }
   ],
   "source": [
    "type(my_dic)"
   ]
  },
  {
   "cell_type": "code",
   "execution_count": 41,
   "id": "10cf5c9b-17eb-466a-9c46-a1d11f6175d5",
   "metadata": {},
   "outputs": [
    {
     "data": {
      "text/plain": [
       "'Audi'"
      ]
     },
     "execution_count": 41,
     "metadata": {},
     "output_type": "execute_result"
    }
   ],
   "source": [
    "my_dic[\"car1\"]"
   ]
  },
  {
   "cell_type": "code",
   "execution_count": 43,
   "id": "d187eae9-4398-43f4-acc9-98d395d86aca",
   "metadata": {},
   "outputs": [
    {
     "name": "stdout",
     "output_type": "stream",
     "text": [
      "car1\n",
      "car2\n",
      "car3\n"
     ]
    }
   ],
   "source": [
    "for x in my_dic:\n",
    "    print(x)"
   ]
  },
  {
   "cell_type": "code",
   "execution_count": 47,
   "id": "f277ccfc-8866-437b-bc7f-33426416f77c",
   "metadata": {},
   "outputs": [
    {
     "name": "stdout",
     "output_type": "stream",
     "text": [
      "Audi\n",
      "BMW\n",
      "Mercidies\n"
     ]
    }
   ],
   "source": [
    "for x in my_dic.values():\n",
    "    print(x)"
   ]
  },
  {
   "cell_type": "code",
   "execution_count": 48,
   "id": "1cab2918-60c2-4192-b8f1-db5da19d1658",
   "metadata": {},
   "outputs": [
    {
     "name": "stdout",
     "output_type": "stream",
     "text": [
      "('car1', 'Audi')\n",
      "('car2', 'BMW')\n",
      "('car3', 'Mercidies')\n"
     ]
    }
   ],
   "source": [
    "for x in my_dic.items():\n",
    "    print(x)"
   ]
  },
  {
   "cell_type": "code",
   "execution_count": 51,
   "id": "5d2ba334-3455-47ea-8800-dfdcaa957080",
   "metadata": {},
   "outputs": [
    {
     "name": "stdout",
     "output_type": "stream",
     "text": [
      "{'car1': 'Audi', 'car2': 'BMW', 'car3': 'Mercidies', 'car4': 'maruti'}\n"
     ]
    }
   ],
   "source": [
    "#Adding items in dictionaries\n",
    "my_dic['car4']=\"maruti\"\n",
    "print(my_dic)"
   ]
  },
  {
   "cell_type": "code",
   "execution_count": 53,
   "id": "fa57c814-3ce5-4ad7-89b8-08102c066225",
   "metadata": {},
   "outputs": [
    {
     "name": "stdout",
     "output_type": "stream",
     "text": [
      "{'car1': {'Mercedes': 1960}, 'car2': {'Audi': 1970}, 'car3': {'Ambasador': 1980}}\n"
     ]
    }
   ],
   "source": [
    "car1_model={'Mercedes':1960}\n",
    "car2_model={'Audi':1970}\n",
    "car3_model={'Ambasador':1980}\n",
    "\n",
    "car_type={'car1':car1_model,'car2':car2_model,'car3':car3_model}\n",
    "print(car_type)\n",
    "\n",
    "#Nested Dictionary"
   ]
  },
  {
   "cell_type": "code",
   "execution_count": 54,
   "id": "190b2e43-17f1-4cd3-bc8d-a38f261a63ba",
   "metadata": {},
   "outputs": [
    {
     "name": "stdout",
     "output_type": "stream",
     "text": [
      "{'Mercedes': 1960}\n"
     ]
    }
   ],
   "source": [
    "#Accessing the items in the dictionary\n",
    "print(car_type['car1'])"
   ]
  },
  {
   "cell_type": "code",
   "execution_count": 71,
   "id": "6747a3da-3491-4de0-b9ba-c68c39396d09",
   "metadata": {},
   "outputs": [
    {
     "name": "stdout",
     "output_type": "stream",
     "text": [
      "1960\n"
     ]
    }
   ],
   "source": [
    "print(car_type['car1']['Mercedes'])"
   ]
  },
  {
   "cell_type": "code",
   "execution_count": 72,
   "id": "6c22f041-30d1-4941-a86c-f01e6676eccb",
   "metadata": {},
   "outputs": [
    {
     "name": "stdout",
     "output_type": "stream",
     "text": [
      "('car1', {'Mercedes': 1960})\n",
      "('car2', {'Audi': 1970})\n",
      "('car3', {'Ambasador': 1980})\n"
     ]
    }
   ],
   "source": [
    "for x in car_type.items():\n",
    "    print(x)"
   ]
  },
  {
   "cell_type": "code",
   "execution_count": null,
   "id": "e0499a77-899e-4cf9-93d8-467fc55d3529",
   "metadata": {},
   "outputs": [],
   "source": []
  },
  {
   "cell_type": "code",
   "execution_count": 69,
   "id": "226d5de0-05c6-4cea-a2ec-ba9d4ef67038",
   "metadata": {},
   "outputs": [
    {
     "name": "stdout",
     "output_type": "stream",
     "text": [
      "{'Mercedes': 1960}\n",
      "{'Audi': 1970}\n",
      "{'Ambasador': 1980}\n"
     ]
    }
   ],
   "source": [
    "for x in car_type.values():\n",
    "    print(x)"
   ]
  },
  {
   "cell_type": "code",
   "execution_count": null,
   "id": "0fb1c90d-d167-4a57-842e-6a506cce52a6",
   "metadata": {},
   "outputs": [],
   "source": []
  },
  {
   "cell_type": "code",
   "execution_count": 68,
   "id": "0a4348b1-2a43-4ea7-bdfc-7a70e7894448",
   "metadata": {},
   "outputs": [
    {
     "name": "stdout",
     "output_type": "stream",
     "text": [
      "Mercedes\n",
      "Audi\n",
      "Ambasador\n"
     ]
    }
   ],
   "source": [
    "#Print Mercedes Audi Ambasador\n",
    "for x in car_type.values():\n",
    "   for y in x:\n",
    "      print(y)"
   ]
  },
  {
   "cell_type": "code",
   "execution_count": null,
   "id": "8f000475-8437-4f35-8d3b-7ef7b99459a9",
   "metadata": {},
   "outputs": [],
   "source": []
  },
  {
   "cell_type": "code",
   "execution_count": 70,
   "id": "c0d1464a-c7ed-4e0f-8fee-7f1c47acdf9c",
   "metadata": {},
   "outputs": [
    {
     "name": "stdout",
     "output_type": "stream",
     "text": [
      "1960\n",
      "1970\n",
      "1980\n"
     ]
    }
   ],
   "source": [
    "#Print 1960 1970 1980  \n",
    "for x in car_type.values():\n",
    "    for y in x.values():\n",
    "       print(y)"
   ]
  },
  {
   "cell_type": "markdown",
   "id": "6013234e-96ac-4461-90c0-0d8ef14975e5",
   "metadata": {},
   "source": []
  },
  {
   "cell_type": "markdown",
   "id": "0fe0010d-accf-4d88-8e81-84f1977e9aab",
   "metadata": {},
   "source": [
    "TUPLE\n"
   ]
  },
  {
   "cell_type": "code",
   "execution_count": 73,
   "id": "788748d4-ace9-4915-b3bf-8260827d8b35",
   "metadata": {},
   "outputs": [
    {
     "data": {
      "text/plain": [
       "tuple"
      ]
     },
     "execution_count": 73,
     "metadata": {},
     "output_type": "execute_result"
    }
   ],
   "source": [
    "my_tuple=tuple()\n",
    "type(my_tuple)"
   ]
  },
  {
   "cell_type": "code",
   "execution_count": 75,
   "id": "5be672e0-3697-427c-af78-4805c2f9c236",
   "metadata": {},
   "outputs": [
    {
     "data": {
      "text/plain": [
       "'apple'"
      ]
     },
     "execution_count": 75,
     "metadata": {},
     "output_type": "execute_result"
    }
   ],
   "source": [
    "my_tuple=(\"apple\",\"orange\",\"banana\")\n",
    "\n",
    "my_tuple[0]"
   ]
  },
  {
   "cell_type": "code",
   "execution_count": 76,
   "id": "68f43883-4127-49f8-9dfd-9920e7d14d7d",
   "metadata": {},
   "outputs": [
    {
     "ename": "TypeError",
     "evalue": "'tuple' object does not support item assignment",
     "output_type": "error",
     "traceback": [
      "\u001b[0;31m---------------------------------------------------------------------------\u001b[0m",
      "\u001b[0;31mTypeError\u001b[0m                                 Traceback (most recent call last)",
      "Cell \u001b[0;32mIn[76], line 1\u001b[0m\n\u001b[0;32m----> 1\u001b[0m my_tuple[\u001b[38;5;241m0\u001b[39m]\u001b[38;5;241m=\u001b[39m\u001b[38;5;124m\"\u001b[39m\u001b[38;5;124mxyz\u001b[39m\u001b[38;5;124m\"\u001b[39m\n",
      "\u001b[0;31mTypeError\u001b[0m: 'tuple' object does not support item assignment"
     ]
    }
   ],
   "source": [
    "my_tuple[0]=\"xyz\"\n",
    "\n",
    "#we cannot do this in tuple"
   ]
  },
  {
   "cell_type": "code",
   "execution_count": 78,
   "id": "b562c2c9-87dc-4e96-ad17-a090a2d1775e",
   "metadata": {},
   "outputs": [
    {
     "data": {
      "text/plain": [
       "('pqr', 'abc', 'efg', 'abc')"
      ]
     },
     "execution_count": 78,
     "metadata": {},
     "output_type": "execute_result"
    }
   ],
   "source": [
    "#but we can completely replace the tuple with new values\n",
    "my_tuple=(\"pqr\",\"abc\",\"efg\",\"abc\")\n",
    "my_tuple"
   ]
  },
  {
   "cell_type": "code",
   "execution_count": 79,
   "id": "c80ebfcf-e555-4561-86b3-71dcaf248917",
   "metadata": {},
   "outputs": [
    {
     "data": {
      "text/plain": [
       "2"
      ]
     },
     "execution_count": 79,
     "metadata": {},
     "output_type": "execute_result"
    }
   ],
   "source": [
    "my_tuple.count(\"abc\")"
   ]
  },
  {
   "cell_type": "code",
   "execution_count": 82,
   "id": "6845c5f8-8a53-45f2-b12c-33ed3be69c0f",
   "metadata": {},
   "outputs": [
    {
     "data": {
      "text/plain": [
       "0"
      ]
     },
     "execution_count": 82,
     "metadata": {},
     "output_type": "execute_result"
    }
   ],
   "source": [
    "my_tuple.index(\"pqr\")"
   ]
  },
  {
   "cell_type": "code",
   "execution_count": null,
   "id": "3112193e-91b3-4d66-9073-0c5ba8a29df3",
   "metadata": {},
   "outputs": [],
   "source": []
  },
  {
   "cell_type": "code",
   "execution_count": null,
   "id": "0c426a77-c8a6-4f95-b365-daf4ae9fd246",
   "metadata": {},
   "outputs": [],
   "source": []
  },
  {
   "cell_type": "code",
   "execution_count": null,
   "id": "b5d3133a-b75c-461d-9e82-0021a71da336",
   "metadata": {},
   "outputs": [],
   "source": []
  },
  {
   "cell_type": "code",
   "execution_count": null,
   "id": "ee80e7b9-b887-4cdc-8ea3-e2f91bec30cb",
   "metadata": {},
   "outputs": [],
   "source": []
  },
  {
   "cell_type": "code",
   "execution_count": null,
   "id": "b482c315-3cd6-48a3-a02d-e61ce7a6abc3",
   "metadata": {},
   "outputs": [],
   "source": []
  },
  {
   "cell_type": "code",
   "execution_count": null,
   "id": "88016e0e-ab37-4ed5-be5c-09f0d761cc41",
   "metadata": {},
   "outputs": [],
   "source": []
  },
  {
   "cell_type": "code",
   "execution_count": null,
   "id": "428cf4c0-47e5-45f0-adab-82e3744486c2",
   "metadata": {},
   "outputs": [],
   "source": []
  },
  {
   "cell_type": "code",
   "execution_count": null,
   "id": "3804087a-bea9-4c1a-a6f0-a54d7f19f646",
   "metadata": {},
   "outputs": [],
   "source": []
  },
  {
   "cell_type": "code",
   "execution_count": null,
   "id": "12b8521e-828e-4110-806b-42b39830900e",
   "metadata": {},
   "outputs": [],
   "source": []
  },
  {
   "cell_type": "code",
   "execution_count": null,
   "id": "bc0f057d-a9cc-402a-928f-df711cca5af8",
   "metadata": {},
   "outputs": [],
   "source": []
  },
  {
   "cell_type": "code",
   "execution_count": null,
   "id": "d3a0343d-d5a4-426a-8086-9963267ba39d",
   "metadata": {},
   "outputs": [],
   "source": []
  },
  {
   "cell_type": "code",
   "execution_count": null,
   "id": "e753818d-aa0c-4176-8b98-1d787f8c4c5e",
   "metadata": {},
   "outputs": [],
   "source": []
  },
  {
   "cell_type": "code",
   "execution_count": null,
   "id": "b1582c35-0832-405b-86c1-c3fce89b374f",
   "metadata": {},
   "outputs": [],
   "source": []
  },
  {
   "cell_type": "code",
   "execution_count": null,
   "id": "82e97c06-d72b-4d02-a660-47f17446da0f",
   "metadata": {},
   "outputs": [],
   "source": []
  },
  {
   "cell_type": "code",
   "execution_count": null,
   "id": "4ed164a7-55f4-4b15-9e4d-7e19275d12c5",
   "metadata": {},
   "outputs": [],
   "source": []
  },
  {
   "cell_type": "code",
   "execution_count": null,
   "id": "e8beb9f3-bf70-4aab-95b9-19cff2fc1792",
   "metadata": {},
   "outputs": [],
   "source": []
  },
  {
   "cell_type": "code",
   "execution_count": null,
   "id": "cc7948f5-2ede-43c0-8f41-8ef6cc87015a",
   "metadata": {},
   "outputs": [],
   "source": []
  },
  {
   "cell_type": "code",
   "execution_count": null,
   "id": "ec37a6c6-7e92-4765-9125-1e88e0ff2334",
   "metadata": {},
   "outputs": [],
   "source": []
  },
  {
   "cell_type": "code",
   "execution_count": null,
   "id": "20fa458d-e4a4-4bab-8ee6-93d934cb034a",
   "metadata": {},
   "outputs": [],
   "source": []
  },
  {
   "cell_type": "code",
   "execution_count": null,
   "id": "60166f41-049e-4e2d-aed3-5adf3a10c542",
   "metadata": {},
   "outputs": [],
   "source": []
  },
  {
   "cell_type": "code",
   "execution_count": null,
   "id": "6f5f1fee-a8f2-42c8-a198-35c800753ca4",
   "metadata": {},
   "outputs": [],
   "source": []
  },
  {
   "cell_type": "code",
   "execution_count": null,
   "id": "65b011c0-0795-474b-bdf7-266a5c956fcc",
   "metadata": {},
   "outputs": [],
   "source": []
  },
  {
   "cell_type": "code",
   "execution_count": null,
   "id": "0f552271-fbd9-44d4-b1a2-ebb3366a73c3",
   "metadata": {},
   "outputs": [],
   "source": []
  },
  {
   "cell_type": "code",
   "execution_count": null,
   "id": "c517aac5-c820-45fc-b596-4e41a5499210",
   "metadata": {},
   "outputs": [],
   "source": []
  }
 ],
 "metadata": {
  "kernelspec": {
   "display_name": "Python 3 (ipykernel)",
   "language": "python",
   "name": "python3"
  },
  "language_info": {
   "codemirror_mode": {
    "name": "ipython",
    "version": 3
   },
   "file_extension": ".py",
   "mimetype": "text/x-python",
   "name": "python",
   "nbconvert_exporter": "python",
   "pygments_lexer": "ipython3",
   "version": "3.12.8"
  }
 },
 "nbformat": 4,
 "nbformat_minor": 5
}
