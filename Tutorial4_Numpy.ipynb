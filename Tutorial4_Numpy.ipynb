{
 "cells": [
  {
   "cell_type": "markdown",
   "id": "9d064d4e-3d81-4124-aa72-aa45b244f19a",
   "metadata": {},
   "source": [
    "Numpy\n",
    "it is a multidimensional array processing package in python"
   ]
  },
  {
   "cell_type": "code",
   "execution_count": 2,
   "id": "12998106-1494-40b0-bdec-5705f154d949",
   "metadata": {},
   "outputs": [
    {
     "name": "stdout",
     "output_type": "stream",
     "text": [
      "[1 2 3 4 5 6]\n"
     ]
    }
   ],
   "source": [
    "import numpy as np\n",
    "\n",
    "my_lst=[1,2,3,4,5,6]\n",
    "arr1=np.array(my_lst)\n",
    "\n",
    "print(arr1)\n",
    "\n"
   ]
  },
  {
   "cell_type": "code",
   "execution_count": 3,
   "id": "ade276e7-30b8-4435-9b02-10a6aeba0320",
   "metadata": {},
   "outputs": [
    {
     "data": {
      "text/plain": [
       "numpy.ndarray"
      ]
     },
     "execution_count": 3,
     "metadata": {},
     "output_type": "execute_result"
    }
   ],
   "source": [
    "type(arr1)"
   ]
  },
  {
   "cell_type": "code",
   "execution_count": 4,
   "id": "1d00dd36-6687-402a-9882-8c4af5f14e15",
   "metadata": {},
   "outputs": [
    {
     "data": {
      "text/plain": [
       "(6,)"
      ]
     },
     "execution_count": 4,
     "metadata": {},
     "output_type": "execute_result"
    }
   ],
   "source": [
    "arr1.shape"
   ]
  },
  {
   "cell_type": "code",
   "execution_count": 5,
   "id": "517bac4e-19a4-4d8d-a62d-1f03bc8ddc9c",
   "metadata": {},
   "outputs": [
    {
     "data": {
      "text/plain": [
       "array([[1, 2, 3, 4, 5, 6]])"
      ]
     },
     "execution_count": 5,
     "metadata": {},
     "output_type": "execute_result"
    }
   ],
   "source": [
    "arr1.reshape(1,6)"
   ]
  },
  {
   "cell_type": "code",
   "execution_count": 6,
   "id": "870fa21e-bd32-44bf-b928-1c0eae4558e5",
   "metadata": {},
   "outputs": [
    {
     "data": {
      "text/plain": [
       "array([[1, 2, 3],\n",
       "       [4, 5, 6]])"
      ]
     },
     "execution_count": 6,
     "metadata": {},
     "output_type": "execute_result"
    }
   ],
   "source": [
    "arr1.reshape(2,3)\n"
   ]
  },
  {
   "cell_type": "code",
   "execution_count": 7,
   "id": "07cd1817-72b0-4ee5-b436-b3778d62f60d",
   "metadata": {},
   "outputs": [
    {
     "data": {
      "text/plain": [
       "array([[1, 2],\n",
       "       [3, 4],\n",
       "       [5, 6]])"
      ]
     },
     "execution_count": 7,
     "metadata": {},
     "output_type": "execute_result"
    }
   ],
   "source": [
    "arr1.reshape(3,2)"
   ]
  },
  {
   "cell_type": "code",
   "execution_count": 8,
   "id": "ffd12120-db92-4623-bf28-a897c9383fd0",
   "metadata": {},
   "outputs": [
    {
     "data": {
      "text/plain": [
       "array([[1, 2, 3, 4, 5],\n",
       "       [2, 3, 4, 5, 6],\n",
       "       [3, 4, 5, 6, 7]])"
      ]
     },
     "execution_count": 8,
     "metadata": {},
     "output_type": "execute_result"
    }
   ],
   "source": [
    "my_list1=[1,2,3,4,5]\n",
    "my_list2=[2,3,4,5,6]\n",
    "my_list3=[3,4,5,6,7]\n",
    "\n",
    "arr2=np.array([my_list1,my_list2,my_list3])\n",
    "arr2"
   ]
  },
  {
   "cell_type": "code",
   "execution_count": 9,
   "id": "22a51146-a9a9-43d0-90c7-05ac52290f28",
   "metadata": {},
   "outputs": [
    {
     "data": {
      "text/plain": [
       "(3, 5)"
      ]
     },
     "execution_count": 9,
     "metadata": {},
     "output_type": "execute_result"
    }
   ],
   "source": [
    "arr2.shape"
   ]
  },
  {
   "cell_type": "code",
   "execution_count": 10,
   "id": "dc0808af-1e9a-42a2-88b7-879438343537",
   "metadata": {},
   "outputs": [],
   "source": [
    "#always reshape where total number of elements are same count.. 15 elements can be reshaped as 1*15,3*5,5*3,15*1"
   ]
  },
  {
   "cell_type": "markdown",
   "id": "f491c771-89f9-48db-ba3f-9d1ce0a1e082",
   "metadata": {},
   "source": [
    "Indexing\n",
    "Accessing array element\n"
   ]
  },
  {
   "cell_type": "code",
   "execution_count": 11,
   "id": "448660fa-a7aa-4030-b9e2-a897c4922393",
   "metadata": {},
   "outputs": [
    {
     "name": "stdout",
     "output_type": "stream",
     "text": [
      "4\n"
     ]
    }
   ],
   "source": [
    "arr4=np.array([1,2,3,4,5,6,7,8,9])\n",
    "print(arr4[3])       "
   ]
  },
  {
   "cell_type": "code",
   "execution_count": 12,
   "id": "efdf5365-992b-4fe7-98cc-e27b7edd7a63",
   "metadata": {},
   "outputs": [
    {
     "data": {
      "text/plain": [
       "array([1, 2, 3, 4, 5, 6, 7, 8, 9])"
      ]
     },
     "execution_count": 12,
     "metadata": {},
     "output_type": "execute_result"
    }
   ],
   "source": [
    "arr4[:]"
   ]
  },
  {
   "cell_type": "code",
   "execution_count": 13,
   "id": "ad6ebcc5-e2b3-489a-99f0-868cc4c7d644",
   "metadata": {},
   "outputs": [
    {
     "data": {
      "text/plain": [
       "array([3, 4, 5, 6, 7, 8, 9])"
      ]
     },
     "execution_count": 13,
     "metadata": {},
     "output_type": "execute_result"
    }
   ],
   "source": [
    "arr4[2:]"
   ]
  },
  {
   "cell_type": "code",
   "execution_count": 14,
   "id": "97e058dd-2c13-41b4-9a6d-f0cf1a328a13",
   "metadata": {},
   "outputs": [
    {
     "data": {
      "text/plain": [
       "array([[1, 2, 3],\n",
       "       [4, 5, 6],\n",
       "       [7, 8, 9]])"
      ]
     },
     "execution_count": 14,
     "metadata": {},
     "output_type": "execute_result"
    }
   ],
   "source": [
    "arr4.reshape(3,3)"
   ]
  },
  {
   "cell_type": "code",
   "execution_count": 15,
   "id": "8ad9db76-b398-4053-82d8-eaa2e363f7f1",
   "metadata": {},
   "outputs": [
    {
     "data": {
      "text/plain": [
       "array([[ 1,  2,  3,  4,  5],\n",
       "       [ 6,  7,  8,  9, 10],\n",
       "       [11, 12, 13, 14, 15]])"
      ]
     },
     "execution_count": 15,
     "metadata": {},
     "output_type": "execute_result"
    }
   ],
   "source": [
    "my_list1=[1,2,3,4,5]\n",
    "my_list2=[6,7,8,9,10]\n",
    "my_list3=[11,12,13,14,15]\n",
    "\n",
    "arr2=np.array([my_list1,my_list2,my_list3])\n",
    "arr2"
   ]
  },
  {
   "cell_type": "code",
   "execution_count": null,
   "id": "41e48c0a-6dba-4abb-b589-1030365af6e2",
   "metadata": {},
   "outputs": [],
   "source": []
  },
  {
   "cell_type": "code",
   "execution_count": 16,
   "id": "fd47305b-27af-40d7-acca-ae3fba38b4d1",
   "metadata": {},
   "outputs": [
    {
     "name": "stdout",
     "output_type": "stream",
     "text": [
      "[[2 3]]\n"
     ]
    }
   ],
   "source": [
    "print(arr2[0:1,1:3])"
   ]
  },
  {
   "cell_type": "code",
   "execution_count": 17,
   "id": "731d0369-f780-4a5e-8ce6-57af15ac0985",
   "metadata": {},
   "outputs": [
    {
     "name": "stdout",
     "output_type": "stream",
     "text": [
      "[[13 14 15]]\n"
     ]
    }
   ],
   "source": [
    "#print 13,14,15\n",
    "print(arr2[2: ,2: ])"
   ]
  },
  {
   "cell_type": "code",
   "execution_count": 18,
   "id": "4745f95e-1374-4f64-b5d9-8c9aa295b901",
   "metadata": {},
   "outputs": [
    {
     "name": "stdout",
     "output_type": "stream",
     "text": [
      "[[8 9]]\n"
     ]
    }
   ],
   "source": [
    "#print 8 , 9\n",
    "print(arr2[1:2,2:4])"
   ]
  },
  {
   "cell_type": "code",
   "execution_count": 19,
   "id": "dc6b678a-cd5f-4390-99a1-18b2e198b315",
   "metadata": {},
   "outputs": [],
   "source": [
    "#arr[row index,column index]\n",
    "\n",
    "#arr[1:3,2:3]\n",
    "# [: ,:] means all the rows and columns\n",
    "#means 1: means index 1 included onwards\n",
    "#:3 means till index (3-1) "
   ]
  },
  {
   "cell_type": "code",
   "execution_count": 20,
   "id": "e43c49c7-d876-4f4d-ae0a-7677d53a92be",
   "metadata": {},
   "outputs": [
    {
     "name": "stdout",
     "output_type": "stream",
     "text": [
      "[[ 9 10]\n",
      " [14 15]]\n"
     ]
    }
   ],
   "source": [
    "# get 9,10,14,15\n",
    "print(arr2[1:,3:])"
   ]
  },
  {
   "cell_type": "code",
   "execution_count": 21,
   "id": "376158c2-ec4c-46a6-85bf-b3c34016a8ab",
   "metadata": {},
   "outputs": [
    {
     "name": "stdout",
     "output_type": "stream",
     "text": [
      "[[ 9 10]\n",
      " [14 15]]\n"
     ]
    }
   ],
   "source": [
    "# get 9,10,14,15\n",
    "print(arr2[1:3,3:5])"
   ]
  },
  {
   "cell_type": "code",
   "execution_count": 22,
   "id": "ee347c1e-540f-4eff-a4ab-a50981c72ff2",
   "metadata": {},
   "outputs": [
    {
     "name": "stdout",
     "output_type": "stream",
     "text": [
      "[[1 2 3 4 5]]\n"
     ]
    }
   ],
   "source": [
    "print(arr2[:1,:])"
   ]
  },
  {
   "cell_type": "code",
   "execution_count": 23,
   "id": "4c3c27ae-8096-4ee9-8f86-d8e6dc0ba7d8",
   "metadata": {},
   "outputs": [
    {
     "data": {
      "text/plain": [
       "array([ 0,  1,  2,  3,  4,  5,  6,  7,  8,  9, 10, 11, 12, 13, 14, 15, 16,\n",
       "       17, 18])"
      ]
     },
     "execution_count": 23,
     "metadata": {},
     "output_type": "execute_result"
    }
   ],
   "source": [
    "arr5=np.arange(0,19)\n",
    "arr5"
   ]
  },
  {
   "cell_type": "code",
   "execution_count": null,
   "id": "d56c2105-166c-40a6-9f5b-ede44abb98a5",
   "metadata": {},
   "outputs": [],
   "source": []
  },
  {
   "cell_type": "code",
   "execution_count": 24,
   "id": "e54a367a-3582-43bb-9d30-8f7342293e60",
   "metadata": {},
   "outputs": [
    {
     "data": {
      "text/plain": [
       "array([0, 3, 6, 9])"
      ]
     },
     "execution_count": 24,
     "metadata": {},
     "output_type": "execute_result"
    }
   ],
   "source": [
    "#np.arnage(start,stop,step)\n",
    "arr5=np.arange(0,10,step=3)\n",
    "arr5"
   ]
  },
  {
   "cell_type": "code",
   "execution_count": 25,
   "id": "cb000e19-ba31-46b6-be94-24f4c1893547",
   "metadata": {},
   "outputs": [
    {
     "data": {
      "text/plain": [
       "array([0, 2, 4, 6, 8])"
      ]
     },
     "execution_count": 25,
     "metadata": {},
     "output_type": "execute_result"
    }
   ],
   "source": [
    "arr5=np.arange(0,10,step=2)\n",
    "arr5"
   ]
  },
  {
   "cell_type": "code",
   "execution_count": 26,
   "id": "13433d23-00cb-4de9-a04d-fd6b398b3c99",
   "metadata": {},
   "outputs": [
    {
     "data": {
      "text/plain": [
       "array([ 1.,  2.,  3.,  4.,  5.,  6.,  7.,  8.,  9., 10.])"
      ]
     },
     "execution_count": 26,
     "metadata": {},
     "output_type": "execute_result"
    }
   ],
   "source": [
    "np.linspace(1,10,num=10)\n",
    "#start,stop,num is how many no of points\n",
    "#equally spaced points\n"
   ]
  },
  {
   "cell_type": "code",
   "execution_count": 27,
   "id": "ff56b1de-ca9f-4130-9527-e7c45616553f",
   "metadata": {},
   "outputs": [
    {
     "data": {
      "text/plain": [
       "array([ 1.        ,  1.09090909,  1.18181818,  1.27272727,  1.36363636,\n",
       "        1.45454545,  1.54545455,  1.63636364,  1.72727273,  1.81818182,\n",
       "        1.90909091,  2.        ,  2.09090909,  2.18181818,  2.27272727,\n",
       "        2.36363636,  2.45454545,  2.54545455,  2.63636364,  2.72727273,\n",
       "        2.81818182,  2.90909091,  3.        ,  3.09090909,  3.18181818,\n",
       "        3.27272727,  3.36363636,  3.45454545,  3.54545455,  3.63636364,\n",
       "        3.72727273,  3.81818182,  3.90909091,  4.        ,  4.09090909,\n",
       "        4.18181818,  4.27272727,  4.36363636,  4.45454545,  4.54545455,\n",
       "        4.63636364,  4.72727273,  4.81818182,  4.90909091,  5.        ,\n",
       "        5.09090909,  5.18181818,  5.27272727,  5.36363636,  5.45454545,\n",
       "        5.54545455,  5.63636364,  5.72727273,  5.81818182,  5.90909091,\n",
       "        6.        ,  6.09090909,  6.18181818,  6.27272727,  6.36363636,\n",
       "        6.45454545,  6.54545455,  6.63636364,  6.72727273,  6.81818182,\n",
       "        6.90909091,  7.        ,  7.09090909,  7.18181818,  7.27272727,\n",
       "        7.36363636,  7.45454545,  7.54545455,  7.63636364,  7.72727273,\n",
       "        7.81818182,  7.90909091,  8.        ,  8.09090909,  8.18181818,\n",
       "        8.27272727,  8.36363636,  8.45454545,  8.54545455,  8.63636364,\n",
       "        8.72727273,  8.81818182,  8.90909091,  9.        ,  9.09090909,\n",
       "        9.18181818,  9.27272727,  9.36363636,  9.45454545,  9.54545455,\n",
       "        9.63636364,  9.72727273,  9.81818182,  9.90909091, 10.        ])"
      ]
     },
     "execution_count": 27,
     "metadata": {},
     "output_type": "execute_result"
    }
   ],
   "source": [
    "np.linspace(1,10,num=100)"
   ]
  },
  {
   "cell_type": "code",
   "execution_count": 28,
   "id": "3a8ef8da-2571-445e-90b3-8f3ee50ceba0",
   "metadata": {},
   "outputs": [
    {
     "name": "stdout",
     "output_type": "stream",
     "text": [
      "[ 1  2  3  4  5  6  7  8  9 10 11 12 13 14 15]\n"
     ]
    }
   ],
   "source": [
    "#copy function\n",
    "\n",
    "arr6=np.array([1,2,3,4,5,6,7,8,9,10,11,12,13,14,15])\n",
    "\n",
    "\n",
    "\n",
    "print(arr6)"
   ]
  },
  {
   "cell_type": "code",
   "execution_count": 29,
   "id": "9b947b7e-6e0f-4bed-874a-3b801b2e06d5",
   "metadata": {},
   "outputs": [
    {
     "name": "stdout",
     "output_type": "stream",
     "text": [
      "[  1   2   3 100 100 100 100 100 100 100 100 100 100 100 100]\n"
     ]
    }
   ],
   "source": [
    "arr6[3:]=100\n",
    "print(arr6)"
   ]
  },
  {
   "cell_type": "code",
   "execution_count": 30,
   "id": "f3ea1c94-0989-4b06-8f57-07886b905a8f",
   "metadata": {},
   "outputs": [],
   "source": [
    "arr7=arr6"
   ]
  },
  {
   "cell_type": "code",
   "execution_count": 31,
   "id": "6ff5ea31-67bc-4e27-be58-cd0885cf8b1d",
   "metadata": {},
   "outputs": [
    {
     "name": "stdout",
     "output_type": "stream",
     "text": [
      "[  1   2   3 500 500 500 500 500 500 500 500 500 500 500 500]\n"
     ]
    }
   ],
   "source": [
    "arr7[3:]=500\n",
    "print(arr7)"
   ]
  },
  {
   "cell_type": "code",
   "execution_count": 32,
   "id": "e865c5ee-4bb7-43d6-8733-275ac395a703",
   "metadata": {},
   "outputs": [
    {
     "name": "stdout",
     "output_type": "stream",
     "text": [
      "[  1   2   3 500 500 500 500 500 500 500 500 500 500 500 500]\n"
     ]
    }
   ],
   "source": [
    "print(arr6)"
   ]
  },
  {
   "cell_type": "code",
   "execution_count": 33,
   "id": "ba10321f-c4ec-46ad-a178-28005bf657a5",
   "metadata": {},
   "outputs": [
    {
     "name": "stdout",
     "output_type": "stream",
     "text": [
      "[  1   2   3 500 500 500 500 500 500 500 500 500 500 500 500]\n",
      "[  1   2   3 200 200 200 200 200 200 200 200 200 200 200 200]\n",
      "[  1   2   3 500 500 500 500 500 500 500 500 500 500 500 500]\n"
     ]
    }
   ],
   "source": [
    "arr7=arr6.copy()\n",
    "print(arr6)\n",
    "arr7[3:]= 200\n",
    "print(arr7)\n",
    "\n",
    "print(arr6)"
   ]
  },
  {
   "cell_type": "code",
   "execution_count": 34,
   "id": "16638856-1301-4947-8d83-eae173e0a699",
   "metadata": {},
   "outputs": [],
   "source": [
    "# the reference type(the first example (where the value changes in change of other)\n",
    "\n",
    "# the value type copy() the secpnd example(another memory space created so change in one doesnot impact the other)\n",
    "\n",
    "# examples are above"
   ]
  },
  {
   "cell_type": "code",
   "execution_count": null,
   "id": "f4634f3d-63be-4ac1-b61b-41ab776f09c1",
   "metadata": {},
   "outputs": [],
   "source": []
  },
  {
   "cell_type": "code",
   "execution_count": 35,
   "id": "877661c7-586b-49b9-b251-038bd4ff445d",
   "metadata": {},
   "outputs": [
    {
     "data": {
      "text/plain": [
       "array([1, 2, 3, 4])"
      ]
     },
     "execution_count": 35,
     "metadata": {},
     "output_type": "execute_result"
    }
   ],
   "source": [
    "#some conditions very useful in exploratory dat analysis\n",
    "arr8=np.array([1,2,3,4,5,6,7,8,9])\n",
    "val=2\n",
    "\n",
    "arr8[arr8 < 5]\n"
   ]
  },
  {
   "cell_type": "code",
   "execution_count": 36,
   "id": "7818e539-1eae-4b94-b0dc-da76bb17ae53",
   "metadata": {},
   "outputs": [
    {
     "data": {
      "text/plain": [
       "array([[0, 1],\n",
       "       [2, 3],\n",
       "       [4, 5],\n",
       "       [6, 7],\n",
       "       [8, 9]])"
      ]
     },
     "execution_count": 36,
     "metadata": {},
     "output_type": "execute_result"
    }
   ],
   "source": [
    "np.arange(0,10).reshape(5,2)"
   ]
  },
  {
   "cell_type": "code",
   "execution_count": 37,
   "id": "6be1bd6a-2523-462a-a500-cc77f5959218",
   "metadata": {},
   "outputs": [
    {
     "name": "stdout",
     "output_type": "stream",
     "text": [
      "[[0 1 2 3 4]\n",
      " [5 6 7 8 9]]\n"
     ]
    }
   ],
   "source": [
    "arr10=np.arange(0,10).reshape(2,5)\n",
    "print(arr10)\n"
   ]
  },
  {
   "cell_type": "code",
   "execution_count": null,
   "id": "4ad9f23b-a039-4b62-9878-3f42a917470c",
   "metadata": {},
   "outputs": [],
   "source": []
  },
  {
   "cell_type": "code",
   "execution_count": 38,
   "id": "4671e8b6-95d1-4e38-bf7b-5859ba93c34d",
   "metadata": {},
   "outputs": [
    {
     "name": "stdout",
     "output_type": "stream",
     "text": [
      "[[0 1 2 3 4]\n",
      " [5 6 7 8 9]]\n"
     ]
    }
   ],
   "source": [
    "arr11=np.arange(0,10).reshape(2,5)\n",
    "print(arr11)"
   ]
  },
  {
   "cell_type": "code",
   "execution_count": 39,
   "id": "1915c2b1-4c1e-441a-8cbc-192a2dc4f4bd",
   "metadata": {},
   "outputs": [
    {
     "data": {
      "text/plain": [
       "array([[ 0,  1,  4,  9, 16],\n",
       "       [25, 36, 49, 64, 81]])"
      ]
     },
     "execution_count": 39,
     "metadata": {},
     "output_type": "execute_result"
    }
   ],
   "source": [
    "arr10 * arr11"
   ]
  },
  {
   "cell_type": "code",
   "execution_count": 40,
   "id": "feaf26ae-c168-404c-9623-248deaa9cfdf",
   "metadata": {},
   "outputs": [
    {
     "data": {
      "text/plain": [
       "array([1., 1., 1., 1.])"
      ]
     },
     "execution_count": 40,
     "metadata": {},
     "output_type": "execute_result"
    }
   ],
   "source": [
    "np.ones(4)\n",
    "#creates an array of 4 elements with 1"
   ]
  },
  {
   "cell_type": "code",
   "execution_count": 41,
   "id": "901ffe3d-b2a5-4712-891b-14369f881cc1",
   "metadata": {},
   "outputs": [
    {
     "data": {
      "text/plain": [
       "array([[1, 1, 1, 1, 1],\n",
       "       [1, 1, 1, 1, 1]])"
      ]
     },
     "execution_count": 41,
     "metadata": {},
     "output_type": "execute_result"
    }
   ],
   "source": [
    "np.ones((2,5),dtype=int)"
   ]
  },
  {
   "cell_type": "code",
   "execution_count": 42,
   "id": "63a2ef21-2742-4a5b-af2b-54532175b801",
   "metadata": {},
   "outputs": [
    {
     "data": {
      "text/plain": [
       "array([[1., 1., 1., 1., 1., 1.],\n",
       "       [1., 1., 1., 1., 1., 1.],\n",
       "       [1., 1., 1., 1., 1., 1.],\n",
       "       [1., 1., 1., 1., 1., 1.],\n",
       "       [1., 1., 1., 1., 1., 1.]])"
      ]
     },
     "execution_count": 42,
     "metadata": {},
     "output_type": "execute_result"
    }
   ],
   "source": [
    "np.ones((5,6),dtype=float)\n",
    "#5 rows 6 columns"
   ]
  },
  {
   "cell_type": "code",
   "execution_count": 43,
   "id": "256c6e06-ed8c-4e3d-ad2f-72bdf272f878",
   "metadata": {},
   "outputs": [
    {
     "data": {
      "text/plain": [
       "array([[0.77330017, 0.18228229, 0.67270212],\n",
       "       [0.59431677, 0.27795687, 0.89320675],\n",
       "       [0.40589579, 0.22690829, 0.19765807]])"
      ]
     },
     "execution_count": 43,
     "metadata": {},
     "output_type": "execute_result"
    }
   ],
   "source": [
    "np.random.rand(3,3)\n",
    "# random number of 3 rows and 3 columns from a random sample of 0 to 1"
   ]
  },
  {
   "cell_type": "code",
   "execution_count": 44,
   "id": "09f6c878-6bef-4d5e-90f2-0bf549fd55f6",
   "metadata": {},
   "outputs": [
    {
     "data": {
      "text/plain": [
       "array([[ 1.00608475, -0.43289359, -0.17378154,  0.181435  ],\n",
       "       [-0.88290835, -0.88573321, -1.69233481,  0.25998782],\n",
       "       [-0.66186135,  0.00389376, -1.87355834, -0.84300509],\n",
       "       [ 0.83316369, -0.99915453, -0.16377456,  0.54646574]])"
      ]
     },
     "execution_count": 44,
     "metadata": {},
     "output_type": "execute_result"
    }
   ],
   "source": [
    "np.random.randn(4,4)\n",
    "#select the random variable based on standard normal distribution"
   ]
  },
  {
   "cell_type": "code",
   "execution_count": 46,
   "id": "71f3e567-a93c-40d7-8b5b-b7983aa8dbbe",
   "metadata": {},
   "outputs": [],
   "source": [
    "\n",
    "import pandas as pd"
   ]
  },
  {
   "cell_type": "code",
   "execution_count": null,
   "id": "88cb8718-9a62-44f0-b58d-f1b026c21556",
   "metadata": {},
   "outputs": [],
   "source": []
  },
  {
   "cell_type": "code",
   "execution_count": 47,
   "id": "996f31ce-5b64-463b-860c-d3b4d410f851",
   "metadata": {},
   "outputs": [
    {
     "data": {
      "text/plain": [
       "array([[ 5, 75],\n",
       "       [66, 92],\n",
       "       [87, 21],\n",
       "       [56, 36]])"
      ]
     },
     "execution_count": 47,
     "metadata": {},
     "output_type": "execute_result"
    }
   ],
   "source": [
    "np.random.randint(0,100,8).reshape(4,2)\n",
    "#randint(low,high,how many numbers)\n",
    "#4 rows 2 columns"
   ]
  },
  {
   "cell_type": "code",
   "execution_count": null,
   "id": "0fdcf35c-d78d-4ecc-8c8e-58432a680c63",
   "metadata": {},
   "outputs": [],
   "source": []
  },
  {
   "cell_type": "code",
   "execution_count": 48,
   "id": "38307199-4dc3-4510-b792-198f3bed5636",
   "metadata": {},
   "outputs": [
    {
     "data": {
      "text/plain": [
       "array([[0.25884768, 0.25008902, 0.98061391, 0.80139576, 0.72003717],\n",
       "       [0.90290152, 0.7162891 , 0.20837267, 0.20402249, 0.65367617]])"
      ]
     },
     "execution_count": 48,
     "metadata": {},
     "output_type": "execute_result"
    }
   ],
   "source": [
    "np.random.random_sample((2,5))\n",
    "# sample is from 0.0 to 1.0\n",
    "# 2 rows 5 columns"
   ]
  },
  {
   "cell_type": "code",
   "execution_count": null,
   "id": "a5ae99f5-6d1a-4426-b1b7-68397fe56dfc",
   "metadata": {},
   "outputs": [],
   "source": []
  },
  {
   "cell_type": "code",
   "execution_count": null,
   "id": "88d4e3b4-900a-4d09-86cb-a04415aaafba",
   "metadata": {},
   "outputs": [],
   "source": []
  },
  {
   "cell_type": "code",
   "execution_count": null,
   "id": "f71829c4-4483-4aa0-a281-fe66a950c556",
   "metadata": {},
   "outputs": [],
   "source": []
  },
  {
   "cell_type": "code",
   "execution_count": null,
   "id": "c96ef09a-38dc-4821-bc34-cbfafe3882fd",
   "metadata": {},
   "outputs": [],
   "source": []
  },
  {
   "cell_type": "code",
   "execution_count": null,
   "id": "62e63d49-7800-40ce-92c9-e881e40b6a83",
   "metadata": {},
   "outputs": [],
   "source": []
  },
  {
   "cell_type": "code",
   "execution_count": null,
   "id": "8ac0c17f-0630-4a0f-8d02-b308c70052f6",
   "metadata": {},
   "outputs": [],
   "source": []
  },
  {
   "cell_type": "code",
   "execution_count": null,
   "id": "120fde56-b9e1-4da3-b36e-d3c473c38334",
   "metadata": {},
   "outputs": [],
   "source": []
  },
  {
   "cell_type": "code",
   "execution_count": null,
   "id": "c3c3f592-ed95-4c6a-80c1-209c02383693",
   "metadata": {},
   "outputs": [],
   "source": []
  },
  {
   "cell_type": "code",
   "execution_count": null,
   "id": "c0ea8527-4fbc-4798-8e6e-53301276d2a7",
   "metadata": {},
   "outputs": [],
   "source": []
  },
  {
   "cell_type": "code",
   "execution_count": null,
   "id": "262ebc7f-1ce2-4efa-840a-af2587503d99",
   "metadata": {},
   "outputs": [],
   "source": []
  },
  {
   "cell_type": "code",
   "execution_count": null,
   "id": "0523541b-04ab-43ec-9275-459c4047b3fa",
   "metadata": {},
   "outputs": [],
   "source": []
  },
  {
   "cell_type": "code",
   "execution_count": null,
   "id": "910df92c-331a-4ddd-b90d-e7fa5c050323",
   "metadata": {},
   "outputs": [],
   "source": []
  },
  {
   "cell_type": "code",
   "execution_count": null,
   "id": "f25e1ef0-035b-426b-9401-910c5bb3694b",
   "metadata": {},
   "outputs": [],
   "source": []
  },
  {
   "cell_type": "code",
   "execution_count": null,
   "id": "f5605452-05c4-4d3d-a1fb-99219f4aea95",
   "metadata": {},
   "outputs": [],
   "source": []
  },
  {
   "cell_type": "code",
   "execution_count": null,
   "id": "c9e7fab7-12ca-465b-b7eb-de06de1d75c9",
   "metadata": {},
   "outputs": [],
   "source": []
  },
  {
   "cell_type": "code",
   "execution_count": null,
   "id": "0511b2ab-28f0-4392-a559-4ad2d757182b",
   "metadata": {},
   "outputs": [],
   "source": []
  },
  {
   "cell_type": "code",
   "execution_count": null,
   "id": "2a824f0b-7f49-4ca4-934b-38dbf15cc5ff",
   "metadata": {},
   "outputs": [],
   "source": []
  },
  {
   "cell_type": "code",
   "execution_count": null,
   "id": "d505919e-f48e-444f-88ac-ccc48923156d",
   "metadata": {},
   "outputs": [],
   "source": []
  },
  {
   "cell_type": "code",
   "execution_count": null,
   "id": "8d03c9a3-d6e5-4b9c-aa1d-ed582e80a042",
   "metadata": {},
   "outputs": [],
   "source": []
  },
  {
   "cell_type": "code",
   "execution_count": null,
   "id": "7e51434d-71bb-43ab-aa9b-71829ab65df1",
   "metadata": {},
   "outputs": [],
   "source": []
  },
  {
   "cell_type": "code",
   "execution_count": null,
   "id": "bcad36a1-4276-4d1f-8b89-e080f052852f",
   "metadata": {},
   "outputs": [],
   "source": []
  },
  {
   "cell_type": "code",
   "execution_count": null,
   "id": "ec31544c-c11b-4f04-96ab-ec6456e5fb8c",
   "metadata": {},
   "outputs": [],
   "source": []
  },
  {
   "cell_type": "code",
   "execution_count": null,
   "id": "0dc6818e-7c5c-4366-84cf-0083a6abbc6e",
   "metadata": {},
   "outputs": [],
   "source": []
  },
  {
   "cell_type": "code",
   "execution_count": null,
   "id": "1835a654-0f72-45b3-843c-607cf416fed8",
   "metadata": {},
   "outputs": [],
   "source": []
  },
  {
   "cell_type": "code",
   "execution_count": null,
   "id": "aa91cf8a-8868-45cc-a214-475acd500e8c",
   "metadata": {},
   "outputs": [],
   "source": []
  },
  {
   "cell_type": "code",
   "execution_count": null,
   "id": "75737137-4944-4049-ad77-c00456d0164a",
   "metadata": {},
   "outputs": [],
   "source": []
  },
  {
   "cell_type": "code",
   "execution_count": null,
   "id": "096bf387-9d13-4b19-91fa-73f518c471a3",
   "metadata": {},
   "outputs": [],
   "source": []
  },
  {
   "cell_type": "code",
   "execution_count": null,
   "id": "aaba3046-06b4-4dc8-871e-d8d6d1e36995",
   "metadata": {},
   "outputs": [],
   "source": []
  },
  {
   "cell_type": "code",
   "execution_count": null,
   "id": "6cacb29c-a53c-4a11-a26c-4ed82570055d",
   "metadata": {},
   "outputs": [],
   "source": []
  },
  {
   "cell_type": "code",
   "execution_count": null,
   "id": "ca160884-b228-4d4d-8caa-d38ea495f503",
   "metadata": {},
   "outputs": [],
   "source": []
  },
  {
   "cell_type": "code",
   "execution_count": null,
   "id": "80280728-04c6-4f48-8fbc-611a265f719f",
   "metadata": {},
   "outputs": [],
   "source": []
  },
  {
   "cell_type": "code",
   "execution_count": null,
   "id": "a29e13b1-b960-4b21-bbb1-4e29e80676c1",
   "metadata": {},
   "outputs": [],
   "source": []
  },
  {
   "cell_type": "code",
   "execution_count": null,
   "id": "1444d067-99fe-49df-9a8d-8c7309788b31",
   "metadata": {},
   "outputs": [],
   "source": []
  },
  {
   "cell_type": "code",
   "execution_count": null,
   "id": "eb8b7b56-77bb-40b8-864e-03c3a165d6b6",
   "metadata": {},
   "outputs": [],
   "source": []
  },
  {
   "cell_type": "code",
   "execution_count": null,
   "id": "ea0a7616-a540-458b-ad4e-0f859c919e29",
   "metadata": {},
   "outputs": [],
   "source": []
  },
  {
   "cell_type": "code",
   "execution_count": null,
   "id": "2d2e020d-d2c5-442f-b609-071c6e01ef25",
   "metadata": {},
   "outputs": [],
   "source": []
  },
  {
   "cell_type": "code",
   "execution_count": null,
   "id": "85b2f1f2-de45-4230-9ef6-1152d5146e76",
   "metadata": {},
   "outputs": [],
   "source": []
  },
  {
   "cell_type": "code",
   "execution_count": null,
   "id": "0e0e44df-c718-4205-8c6b-00ecd3e080ea",
   "metadata": {},
   "outputs": [],
   "source": []
  },
  {
   "cell_type": "code",
   "execution_count": null,
   "id": "bfd8edb2-bbf6-4c46-b917-b50475bca19d",
   "metadata": {},
   "outputs": [],
   "source": []
  }
 ],
 "metadata": {
  "kernelspec": {
   "display_name": "Python 3 (ipykernel)",
   "language": "python",
   "name": "python3"
  },
  "language_info": {
   "codemirror_mode": {
    "name": "ipython",
    "version": 3
   },
   "file_extension": ".py",
   "mimetype": "text/x-python",
   "name": "python",
   "nbconvert_exporter": "python",
   "pygments_lexer": "ipython3",
   "version": "3.12.8"
  }
 },
 "nbformat": 4,
 "nbformat_minor": 5
}
